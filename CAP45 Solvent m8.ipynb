{
 "cells": [
  {
   "cell_type": "code",
   "execution_count": 4,
   "metadata": {
    "collapsed": false
   },
   "outputs": [
    {
     "name": "stdout",
     "output_type": "stream",
     "text": [
      "The rpy2.ipython extension is already loaded. To reload it, use:\n",
      "  %reload_ext rpy2.ipython\n"
     ]
    }
   ],
   "source": [
    "%load_ext rpy2.ipython"
   ]
  },
  {
   "cell_type": "markdown",
   "metadata": {},
   "source": [
    "Full trimer plot"
   ]
  },
  {
   "cell_type": "code",
   "execution_count": 2,
   "metadata": {
    "collapsed": false
   },
   "outputs": [
    {
     "data": {
      "text/plain": [
       "Saving 20 x 6.67 in image\n"
      ]
     },
     "metadata": {},
     "output_type": "display_data"
    }
   ],
   "source": [
    "%%R\n",
    "library(ggplot2)\n",
    "CAP_ug_sa <- read.table('../Wiggler/CAP45_mod/CAP45_unglycosylated.rsa', stringsAsFactors = FALSE)\n",
    "CAP_ug_sa$Type <- 'Unglycosylated'\n",
    "CAP_ug_sa$fail <- 1\n",
    "\n",
    "CAP_g_sa <- read.table('../Wiggler/CAP45_mod/CAP45_m8.rsa', stringsAsFactors = FALSE)\n",
    "CAP_g_sa$Type <- 'm8'\n",
    "CAP_g_sa$fail <- 1\n",
    "\n",
    "CAP_PNGS <- read.table('../Wiggler/CAP45_mod/PNGS.txt', header = TRUE, stringsAsFactors = FALSE)\n",
    "CAP_fail <- read.table('../Wiggler/CAP45_mod/nonsolutions.txt', header = TRUE, stringsAsFactors = FALSE)\n",
    "CAP_g_sa$fail[CAP_g_sa$V3 %in% CAP_fail$SITE] <- 0\n",
    "\n",
    "PNGS_sa <- rbind(subset(CAP_ug_sa, V3 %in% CAP_PNGS$SITE),\n",
    "                 subset(CAP_g_sa, V3 %in% CAP_PNGS$SITE))\n",
    "\n",
    "\n",
    "PNGS_sa$V3 <- \n",
    " factor(PNGS_sa$V3,\n",
    "        ordered = T,\n",
    "        labels = paste(c('88','133','144','156','160','190_2',\n",
    "                       '197','230','234','241','262','276',\n",
    "                       '289','301','334','339','356',\n",
    "                       '386','403','406','442','446','463',\n",
    "                       '611','616','625','637'), \n",
    "                       c(rep('A',27),rep('B',27),rep('C',27)),\n",
    "                       sep = ''))\n",
    "\n",
    "\n",
    "ggplot(aes(x = V3, y = V4, \n",
    "           fill = Type, \n",
    "           col = Type,\n",
    "           alpha = factor(fail)), data = PNGS_sa) +\n",
    " geom_bar(stat = 'identity', position = 'dodge') +\n",
    " scale_alpha_manual(values = c(0,1)) +\n",
    " xlab('HXB2 position') +\n",
    " scale_y_continuous('Accessible surface area', expand = c(0,0)) +\n",
    " ggtitle('CAP45 Solvent accessible surface area') +\n",
    " theme_bw() +\n",
    " guides(alpha = FALSE) +\n",
    " theme(axis.text.x = element_text(angle = 90, hjust = 1, vjust = 0.5)) +\n",
    " coord_cartesian(ylim = c(0, 150)) +\n",
    " theme(legend.position=\"bottom\")\n",
    "\n",
    "ggsave('../Wiggler/CAP45_mod/CAP_tri_sa.png', width = 20)"
   ]
  },
  {
   "cell_type": "code",
   "execution_count": null,
   "metadata": {
    "collapsed": true
   },
   "outputs": [],
   "source": []
  },
  {
   "cell_type": "code",
   "execution_count": 5,
   "metadata": {
    "collapsed": false
   },
   "outputs": [
    {
     "data": {
      "text/plain": [
       "Saving 15 x 6.67 in image\n"
      ]
     },
     "metadata": {},
     "output_type": "display_data"
    }
   ],
   "source": [
    "%%R\n",
    "library(ggplot2)\n",
    "CAP_ug_sa <- read.table('../Wiggler/CAP45_mod/CAP45_unglycosylated.rsa', stringsAsFactors = FALSE)\n",
    "CAP_ug_sa$Type <- 'Unglycosylated'\n",
    "CAP_ug_sa$fail <- 1\n",
    "\n",
    "CAP_g_sa <- read.table('../Wiggler/CAP45_mod/CAP45_m8.rsa', stringsAsFactors = FALSE)\n",
    "CAP_g_sa$Type <- 'm8'\n",
    "CAP_g_sa$fail <- 1\n",
    "\n",
    "CAP_PNGS <- read.table('../Wiggler/CAP45_mod/PNGS.txt', header = TRUE, stringsAsFactors = FALSE)\n",
    "CAP_fail <- read.table('../Wiggler/CAP45_mod/nonsolutions.txt', header = TRUE, stringsAsFactors = FALSE)\n",
    "CAP_g_sa$fail[CAP_g_sa$V3 %in% CAP_fail$SITE] <- 0\n",
    "\n",
    "PNGS_sa <- rbind(subset(CAP_ug_sa, V3 %in% CAP_PNGS$SITE),\n",
    "                 subset(CAP_g_sa, V3 %in% CAP_PNGS$SITE))\n",
    "\n",
    "PNGS_sa$V3 <- 0:26\n",
    "PNGS_sa$Mon <- c(rep(1,27), rep(2,27), rep(3,27))\n",
    "PNGS_sa$V3 <- \n",
    " factor(PNGS_sa$V3,\n",
    "        ordered = T,\n",
    "        labels = c('88','133','144','156','160','190_2',\n",
    "                       '197','230','234','241','262','276',\n",
    "                       '289','301','334','339','356',\n",
    "                       '386','403','406','442','446','463',\n",
    "                       '611','616','625','637'))\n",
    "\n",
    "\n",
    "ggplot(aes(x = V3, y = V4, \n",
    "           fill = Type,\n",
    "           col = Type,\n",
    "           linetype = factor(Mon),\n",
    "           alpha = factor(fail)),\n",
    "       data = PNGS_sa) +\n",
    " geom_bar(stat = 'identity', position = 'dodge') +\n",
    " scale_alpha_manual(values = c(0,1)) +\n",
    " scale_linetype_manual(values = c('solid','solid','solid')) + \n",
    " xlab('HXB2 position') +\n",
    " scale_y_continuous('Accessible surface area', expand = c(0,0)) +\n",
    " ggtitle('CAP45 Solvent accessible surface area') +\n",
    " theme_bw() +\n",
    " guides(alpha = FALSE, linetype = FALSE) +\n",
    " #theme(axis.text.x = element_text(angle = 90, hjust = 1, vjust = 0.5)) +\n",
    " coord_cartesian(ylim = c(0, 150)) +\n",
    " theme(legend.position=\"bottom\")\n",
    "\n",
    "ggsave('../Wiggler/CAP45_mod/CAP_sa.png', width = 15)"
   ]
  },
  {
   "cell_type": "code",
   "execution_count": null,
   "metadata": {
    "collapsed": true
   },
   "outputs": [],
   "source": []
  }
 ],
 "metadata": {
  "kernelspec": {
   "display_name": "Python 2",
   "language": "python",
   "name": "python2"
  },
  "language_info": {
   "codemirror_mode": {
    "name": "ipython",
    "version": 2
   },
   "file_extension": ".py",
   "mimetype": "text/x-python",
   "name": "python",
   "nbconvert_exporter": "python",
   "pygments_lexer": "ipython2",
   "version": "2.7.9"
  }
 },
 "nbformat": 4,
 "nbformat_minor": 0
}
