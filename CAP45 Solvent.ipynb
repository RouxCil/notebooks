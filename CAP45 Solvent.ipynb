{
 "cells": [
  {
   "cell_type": "code",
   "execution_count": 1,
   "metadata": {
    "collapsed": false
   },
   "outputs": [],
   "source": [
    "%load_ext rpy2.ipython"
   ]
  },
  {
   "cell_type": "markdown",
   "metadata": {},
   "source": [
    "Full trimer plot"
   ]
  },
  {
   "cell_type": "code",
   "execution_count": 12,
   "metadata": {
    "collapsed": false
   },
   "outputs": [
    {
     "data": {
      "text/plain": [
       "Saving 20 x 6.67 in image\n"
      ]
     },
     "metadata": {},
     "output_type": "display_data"
    }
   ],
   "source": [
    "%%R\n",
    "dir <- ''\n",
    "glycan <- 'm9'\n",
    "probe <- '3'\n",
    "\n",
    "library(ggplot2)\n",
    "ranges <- data.frame(xmin = c(0.5,1.5,4.5,6.5,13.5,14.5,17.5,20.5,22.5,23.5,0.5,0.5,\n",
    "                             27.5,28.5,31.5,33.5,40.5,41.5,44.5,47.5,49.5,50.5,27.5,27.5,\n",
    "                             54.5,55.5,58.5,60.5,67.5,68.5,71.5,74.5,76.5,77.5,54.5,54.5),\n",
    "                     xmax = c(1.5,4.5,6.5,13.5,14.5,17.5,20.5,22.5,23.5,27.5,27.5,27.5,\n",
    "                             28.5,31.5,33.5,40.5,41.5,44.5,47.5,49.5,50.5,54.5,54.5,54.5,\n",
    "                             55.5,58.5,60.5,67.5,68.5,71.5,74.5,76.5,77.5,81.5,81.5,81.5),\n",
    "                     ymin = c(0),\n",
    "                     ymax = c(rep(220,9),230,230,240),\n",
    "                     label = c('C1','V1','V2','C2','V3','C3','V4',\n",
    "                               'C4','V5','GP41','GP120','A',\n",
    "                               'C1','V1','V2','C2','V3','C3','V4',\n",
    "                               'C4','V5','GP41','GP120','B',\n",
    "                               'C1','V1','V2','C2','V3','C3','V4',\n",
    "                               'C4','V5','GP41','GP120','C'),\n",
    "                    jitter = c(5))\n",
    "\n",
    "CAP_ug_sa <- read.table(paste(dir,'CAP45_unglycosylated.rsa', sep = ''), stringsAsFactors = FALSE)\n",
    "CAP_ug_sa$Type <- 'Unglycosylated'\n",
    "CAP_ug_sa$fail <- 1\n",
    "\n",
    "CAP_g_sa <- read.table(paste(dir, 'CAP45_', glycan, '.rsa', sep = ''), stringsAsFactors = FALSE)\n",
    "CAP_g_sa$Type <- glycan\n",
    "CAP_g_sa$fail <- 1\n",
    "\n",
    "CAP_PNGS <- read.table('../Wiggler/CAP45/PNGS.txt', header = TRUE, stringsAsFactors = FALSE)\n",
    "CAP_fail <- read.table(paste('../Wiggler/CAP45/nosolution_', glycan, '.txt', sep = ''), header = TRUE, stringsAsFactors = FALSE)\n",
    "CAP_g_sa$fail[CAP_g_sa$V3 %in% CAP_fail$SITE] <- 0\n",
    "\n",
    "PNGS_sa <- rbind(subset(CAP_ug_sa, V3 %in% CAP_PNGS$SITE),\n",
    "                 subset(CAP_g_sa, V3 %in% CAP_PNGS$SITE))\n",
    "\n",
    "\n",
    "PNGS_sa$V3 <- \n",
    " factor(PNGS_sa$V3,\n",
    "        ordered = T,\n",
    "        labels = paste(c('88','133','144','156','160','190_2',\n",
    "                       '197','230','234','241','262','276',\n",
    "                       '289','301','334','339','356',\n",
    "                       '386','403','406','442','446','463',\n",
    "                       '611','616','625','637'), \n",
    "                       c(rep('A',27),rep('B',27),rep('C',27)),\n",
    "                       sep = ''))\n",
    "\n",
    "\n",
    "ggplot() +\n",
    " geom_bar(aes(x = factor(V3), y = V4, \n",
    "              fill = Type, \n",
    "              col = Type,\n",
    "              alpha = factor(fail)), \n",
    "          data = PNGS_sa, stat = 'identity', position = 'dodge') +\n",
    " geom_rect(aes(xmin = xmin, xmax = xmax, \n",
    "               ymin = ymin, ymax = ymax), \n",
    "           col = 'black', \n",
    "           alpha = 0, \n",
    "           data = ranges) +\n",
    " geom_text(aes(x = xmin + (xmax-xmin)/2, y = ymax+jitter, \n",
    "               label = label), data = ranges) +\n",
    " scale_alpha_manual(values = c(0,1)) +\n",
    " xlab('HXB2 position') +\n",
    " scale_y_continuous('Accessible surface area', expand = c(0,0)) +\n",
    " ggtitle('CAP45 Solvent accessible surface area') +\n",
    " theme_bw() +\n",
    " guides(alpha = FALSE) +\n",
    " theme(axis.text.x = element_text(angle = 90, hjust = 1, vjust = 0.5)) +\n",
    " coord_cartesian(ylim = c(0, 250)) +\n",
    " theme(legend.position=\"bottom\")\n",
    "\n",
    "ggsave(paste('../Graphs/SA/CAPSA_', probe,'_tri', glycan, '.png', sep =''), width = 20)"
   ]
  },
  {
   "cell_type": "code",
   "execution_count": 13,
   "metadata": {
    "collapsed": false
   },
   "outputs": [
    {
     "data": {
      "text/plain": [
       "Saving 20 x 6.67 in image\n"
      ]
     },
     "metadata": {},
     "output_type": "display_data"
    }
   ],
   "source": [
    "%%R\n",
    "ranges <- data.frame(xmin = c(0.5,1.5,4.5,6.5,13.5,14.5,17.5,20.5,22.5,23.5,0.5),\n",
    "                     xmax = c(1.5,4.5,6.5,13.5,14.5,17.5,20.5,22.5,23.5,27.5,27.5),\n",
    "                     ymin = c(0),\n",
    "                     ymax = c(rep(220,9),230,230),\n",
    "                     label = c('C1','V1','V2','C2','V3','C3','V4',\n",
    "                               'C4','V5','GP41','GP120'),\n",
    "                    jitter = c(5))\n",
    "library(ggplot2)\n",
    "CAP_ug_sa <- read.table(paste(dir,'CAP45_unglycosylated.rsa', sep = ''), stringsAsFactors = FALSE)\n",
    "CAP_ug_sa$Type <- 'Unglycosylated'\n",
    "CAP_ug_sa$fail <- 1\n",
    "\n",
    "CAP_g_sa <- read.table(paste(dir, 'CAP45_', glycan, '.rsa', sep = ''), stringsAsFactors = FALSE)\n",
    "CAP_g_sa$Type <- glycan\n",
    "CAP_g_sa$fail <- 1\n",
    "\n",
    "CAP_PNGS <- read.table('../Wiggler/CAP45/PNGS.txt', header = TRUE, stringsAsFactors = FALSE)\n",
    "CAP_fail <- read.table(paste('../Wiggler/CAP45/nosolution_', glycan, '.txt', sep = ''), header = TRUE, stringsAsFactors = FALSE)\n",
    "CAP_g_sa$fail[CAP_g_sa$V3 %in% CAP_fail$SITE] <- 0\n",
    "\n",
    "PNGS_sa <- rbind(subset(CAP_ug_sa, V3 %in% CAP_PNGS$SITE),\n",
    "                 subset(CAP_g_sa, V3 %in% CAP_PNGS$SITE))\n",
    "\n",
    "PNGS_sa$V3 <- 0:26\n",
    "PNGS_sa$Mon <- c(rep(1,27), rep(2,27), rep(3,27))\n",
    "PNGS_sa$V3 <- \n",
    " factor(PNGS_sa$V3,\n",
    "        ordered = T,\n",
    "        labels = c('88','133','144','156','160','190_2',\n",
    "                       '197','230','234','241','262','276',\n",
    "                       '289','301','334','339','356',\n",
    "                       '386','403','406','442','446','463',\n",
    "                       '611','616','625','637'))\n",
    "\n",
    "\n",
    "ggplot() +\n",
    " geom_bar(aes(x = factor(V3), y = V4, \n",
    "              fill = Type,\n",
    "              col = Type,\n",
    "              linetype = factor(Mon),\n",
    "              alpha = factor(fail)),\n",
    "          data = PNGS_sa, stat = 'identity', position = 'dodge') +\n",
    " geom_rect(aes(xmin = xmin, xmax = xmax, \n",
    "               ymin = ymin, ymax = ymax), \n",
    "           col = 'black', \n",
    "           alpha = 0, \n",
    "           data = ranges) +\n",
    " geom_text(aes(x = xmin + (xmax-xmin)/2, y = ymax+jitter, \n",
    "               label = label), data = ranges) +\n",
    " scale_alpha_manual(values = c(0,1)) +\n",
    " scale_linetype_manual(values = c('solid','solid','solid')) + \n",
    " xlab('HXB2 position') +\n",
    " scale_y_continuous('Accessible surface area', expand = c(0,0)) +\n",
    " ggtitle('CAP45 Solvent accessible surface area') +\n",
    " theme_bw() +\n",
    " guides(alpha = FALSE, linetype = FALSE) +\n",
    " #theme(axis.text.x = element_text(angle = 90, hjust = 1, vjust = 0.5)) +\n",
    " coord_cartesian(ylim = c(0, 250)) +\n",
    " theme(legend.position=\"bottom\")\n",
    "\n",
    "ggsave(paste('../Graphs/SA/CAPSA_', probe,'_', glycan, '.png', sep =''), width = 20)"
   ]
  },
  {
   "cell_type": "code",
   "execution_count": null,
   "metadata": {
    "collapsed": true
   },
   "outputs": [],
   "source": []
  }
 ],
 "metadata": {
  "kernelspec": {
   "display_name": "Python 2",
   "language": "python",
   "name": "python2"
  },
  "language_info": {
   "codemirror_mode": {
    "name": "ipython",
    "version": 2
   },
   "file_extension": ".py",
   "mimetype": "text/x-python",
   "name": "python",
   "nbconvert_exporter": "python",
   "pygments_lexer": "ipython2",
   "version": "2.7.9"
  }
 },
 "nbformat": 4,
 "nbformat_minor": 0
}
