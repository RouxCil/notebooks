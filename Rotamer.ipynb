{
 "cells": [
  {
   "cell_type": "code",
   "execution_count": 1,
   "metadata": {
    "collapsed": true
   },
   "outputs": [],
   "source": [
    "%load_ext rpy2.ipython"
   ]
  },
  {
   "cell_type": "code",
   "execution_count": 62,
   "metadata": {
    "collapsed": false
   },
   "outputs": [
    {
     "data": {
      "text/plain": [
       "Saving 8 x 6.67 in image\n"
      ]
     },
     "metadata": {},
     "output_type": "display_data"
    }
   ],
   "source": [
    "%%R\n",
    "library(ggplot2)\n",
    "library(scales)\n",
    "CAP_m5 <- read.table('../Wiggler/CAP45/angle_m5.txt', stringsAsFactors = FALSE, header = T)\n",
    "CAP_m5 <- subset(CAP_m5, fail == 0)\n",
    "CAP_m5$Glycan <- 'm5'\n",
    "\n",
    "CAP_m8 <- read.table('../Wiggler/CAP45/angle_m8.txt', stringsAsFactors = FALSE, header = T)\n",
    "CAP_m8 <- subset(CAP_m8, fail == 0)\n",
    "CAP_m8$Glycan <- 'm8'\n",
    "\n",
    "CAP_m9 <- read.table('../Wiggler/CAP45/angle_m9.txt', stringsAsFactors = FALSE, header = T)\n",
    "CAP_m9 <- subset(CAP_m9, fail == 0)\n",
    "CAP_m9$Glycan <- 'm9'\n",
    "\n",
    "Rotamer <- rbind(CAP_m5, CAP_m8, CAP_m9)\n",
    "\n",
    "ggplot(aes(x = factor(Rotamer)), data = Rotamer) +\n",
    " geom_bar(aes(y = ..density.., group = Glycan)) +\n",
    " scale_y_continuous('Percent (%)', labels = percent, expand = c(0,0)) +\n",
    " scale_x_discrete('Rotamer and angle') +\n",
    " coord_cartesian(ylim = c(0, 0.79)) +\n",
    " facet_grid(Glycan~.) +\n",
    " ggtitle('CAP45 rotamer') +\n",
    " theme_bw()\n",
    "\n",
    "ggsave('../Graphs/CAP_Rotamer.png', width = 8)"
   ]
  },
  {
   "cell_type": "code",
   "execution_count": 63,
   "metadata": {
    "collapsed": false
   },
   "outputs": [
    {
     "data": {
      "text/plain": [
       "Saving 8 x 6.67 in image\n"
      ]
     },
     "metadata": {},
     "output_type": "display_data"
    }
   ],
   "source": [
    "%%R\n",
    "library(ggplot2)\n",
    "library(scales)\n",
    "Du_m5 <- read.table('../Wiggler/Du156/angle_m5.txt', stringsAsFactors = FALSE, header = T)\n",
    "Du_m5 <- subset(Du_m5, fail == 0)\n",
    "Du_m5$Glycan <- 'm5'\n",
    "\n",
    "Du_m8 <- read.table('../Wiggler/Du156/angle_m8.txt', stringsAsFactors = FALSE, header = T)\n",
    "Du_m8 <- subset(Du_m8, fail == 0)\n",
    "Du_m8$Glycan <- 'm8'\n",
    "\n",
    "Du_m9 <- read.table('../Wiggler/Du156/angle_m9.txt', stringsAsFactors = FALSE, header = T)\n",
    "Du_m9 <- subset(Du_m9, fail == 0)\n",
    "Du_m9$Glycan <- 'm9'\n",
    "\n",
    "Rotamer <- rbind(Du_m5, Du_m8, Du_m9)\n",
    "\n",
    "ggplot(aes(x = factor(Rotamer)), data = Rotamer) +\n",
    " geom_bar(aes(y = ..density.., group = Glycan)) +\n",
    " scale_y_continuous('Percent (%)', labels = percent, expand = c(0,0)) +\n",
    " scale_x_discrete('Rotamer and angle') +\n",
    " coord_cartesian(ylim = c(0, 0.79)) +\n",
    " facet_grid(Glycan~.) +\n",
    " ggtitle('Du156 rotamer') +\n",
    " theme_bw()\n",
    "\n",
    "ggsave('../Graphs/Du_Rotamer.png', width = 8)"
   ]
  },
  {
   "cell_type": "code",
   "execution_count": null,
   "metadata": {
    "collapsed": true
   },
   "outputs": [],
   "source": []
  }
 ],
 "metadata": {
  "kernelspec": {
   "display_name": "Python 2",
   "language": "python",
   "name": "python2"
  },
  "language_info": {
   "codemirror_mode": {
    "name": "ipython",
    "version": 2
   },
   "file_extension": ".py",
   "mimetype": "text/x-python",
   "name": "python",
   "nbconvert_exporter": "python",
   "pygments_lexer": "ipython2",
   "version": "2.7.9"
  }
 },
 "nbformat": 4,
 "nbformat_minor": 0
}
