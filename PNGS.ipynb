{
 "cells": [
  {
   "cell_type": "code",
   "execution_count": 1,
   "metadata": {
    "collapsed": false
   },
   "outputs": [],
   "source": [
    "from Bio import SeqIO\n",
    "from Bio.Seq import Seq\n",
    "from Bio.SeqRecord import SeqRecord\n",
    "from Bio.Alphabet import generic_protein\n",
    "from Bio.Align.Applications import MuscleCommandline\n",
    "from pandas import DataFrame\n",
    "from ggplot import *\n",
    "\n",
    "import re\n",
    "\n",
    "%load_ext rpy2.ipython\n",
    "\n",
    "\n",
    "CAP45_record = SeqIO.read('../sequence_files/CAP45.gb', 'genbank')\n",
    "Du156_record = SeqIO.read('../sequence_files/Du156.gb', 'genbank')\n",
    "HXB2_record = SeqIO.read('../sequence_files/HXB2.gb', 'genbank')"
   ]
  },
  {
   "cell_type": "code",
   "execution_count": 2,
   "metadata": {
    "collapsed": false
   },
   "outputs": [],
   "source": [
    "# Select out env\n",
    "CAP45_env_aa = CAP45_record.features[4].qualifiers['translation'][0]\n",
    "Du156_env_aa = Du156_record.features[6].qualifiers['translation'][0]\n",
    "HXB2_env_aa = HXB2_record.features[15].qualifiers['translation'][0]"
   ]
  },
  {
   "cell_type": "code",
   "execution_count": 3,
   "metadata": {
    "collapsed": false
   },
   "outputs": [],
   "source": [
    "def Build_Ref_dict(origin, ref):\n",
    "    #write seqs to file\n",
    "    origin_rec = SeqRecord(Seq(origin, generic_protein),\n",
    "                           id = 'origin', \n",
    "                           description = '')\n",
    "    ref_rec = SeqRecord(Seq(ref, generic_protein),\n",
    "                        id = 'ref',\n",
    "                        description = '')\n",
    "    SeqIO.write([origin_rec, ref_rec], \n",
    "            'input.fasta', 'fasta')\n",
    "    \n",
    "    # Align with muscle\n",
    "    mc = MuscleCommandline(input='input.fasta', out='output.fasta')\n",
    "    mc()\n",
    "    \n",
    "    # read alignment\n",
    "    ali = [seq_record.seq for seq_record in SeqIO.parse('output.fasta', \n",
    "                                                        'fasta')]\n",
    "    origin = str(ali[0])\n",
    "    ref = str(ali[1])\n",
    "    \n",
    "    # Build dict\n",
    "    l = len(origin)\n",
    "    origin_pos = 0\n",
    "    num_pos = 0\n",
    "    gap_pos = 0\n",
    "    \n",
    "    ref_dict = dict()\n",
    "    for i in range(0,l):\n",
    "        if ref[i] != '-':\n",
    "            num_pos += 1\n",
    "            gap_pos = 0\n",
    "        if ref[i] == '-':\n",
    "            gap_pos += 1\n",
    "        \n",
    "        if origin[i] != '-' and gap_pos != 0:\n",
    "            origin_pos += 1\n",
    "            ref_dict[origin_pos] = str(num_pos) + '_' + str(gap_pos)\n",
    "        if origin[i] != '-' and gap_pos == 0:\n",
    "            origin_pos += 1\n",
    "            ref_dict[origin_pos] = str(num_pos)\n",
    "    return(ref_dict)\n"
   ]
  },
  {
   "cell_type": "code",
   "execution_count": 4,
   "metadata": {
    "collapsed": false
   },
   "outputs": [
    {
     "name": "stdout",
     "output_type": "stream",
     "text": [
      "87 88\n",
      "132 133\n",
      "136 144\n",
      "145 156\n",
      "149 160\n",
      "181 190_2\n",
      "191 197\n",
      "224 230\n",
      "228 234\n",
      "235 241\n",
      "256 262\n",
      "270 276\n",
      "283 289\n",
      "295 301\n",
      "327 334\n",
      "328 335\n",
      "332 339\n",
      "348 356\n",
      "378 386\n",
      "388 403\n",
      "391 406\n",
      "422 442\n",
      "426 446\n",
      "444 463\n",
      "592 611\n",
      "597 616\n",
      "606 625\n",
      "618 637\n",
      "655 674\n"
     ]
    }
   ],
   "source": [
    "# Find CAP45_HXB2 dict\n",
    "CAP45_HXB2 = Build_Ref_dict(CAP45_env_aa, HXB2_env_aa)\n",
    "\n",
    "# PNGS in CAP45\n",
    "PNGS = []\n",
    "matches = re.finditer('N(?=[A-OQ-Z][TS])', CAP45_env_aa)\n",
    "for match in matches:\n",
    "    PNGS.append({'name':'CAP45' , 'pos':CAP45_HXB2[match.start()+1], 'pres':0})\n",
    "    print match.start()+1,CAP45_HXB2[match.start()+1]"
   ]
  },
  {
   "cell_type": "code",
   "execution_count": 9,
   "metadata": {
    "collapsed": false,
    "scrolled": true
   },
   "outputs": [],
   "source": [
    "# Find Du156_HXB2 dict\n",
    "Du156_HXB2 = Build_Ref_dict(Du156_env_aa, HXB2_env_aa)\n",
    "\n",
    "# PNGS in Du156\n",
    "matches = re.finditer('N(?=[A-OQ-Z][TS])', Du156_env_aa)\n",
    "for match in matches:\n",
    "    PNGS.append({'name':'Du156' , 'pos':Du156_HXB2[match.start()+1], 'pres':0})\n",
    "    #print match.start()+1, Du156_HXB2[match.start()+1]"
   ]
  },
  {
   "cell_type": "code",
   "execution_count": 6,
   "metadata": {
    "collapsed": false
   },
   "outputs": [],
   "source": [
    "# PNGS in HXB2\n",
    "matches = re.finditer('[N](?=[A-OQ-Z][TS])', HXB2_env_aa)\n",
    "for match in matches:\n",
    "    PNGS.append({'name':'HXB2' , 'pos':match.start()+1, 'pres':1})\n",
    "    #print(match.start()+1)"
   ]
  },
  {
   "cell_type": "code",
   "execution_count": 7,
   "metadata": {
    "collapsed": false
   },
   "outputs": [],
   "source": [
    "PNGS_data = DataFrame(PNGS)"
   ]
  },
  {
   "cell_type": "code",
   "execution_count": 72,
   "metadata": {
    "collapsed": false,
    "scrolled": false
   },
   "outputs": [],
   "source": [
    "%%R -i PNGS_data\n",
    "\n",
    "library(ggplot2)\n",
    "library(grid)\n",
    "\n",
    "levels <- c('88', levels(factor(PNGS_data$pos))[1:length(PNGS_data$pos)-1])\n",
    "PNGS_data$pos_f <- factor(PNGS_data$pos, ordered = T, levels = levels)\n",
    "ranges <- data.frame(xmin = c(0,1.5,9.5,13.5,21.5,22.5,28.5,34.5,37.5, 40.5),\n",
    "                     xmax = c(1.5,9.5,13.5,21.5,22.5,28.5,34.5,37.5,40.5, 48.5),\n",
    "                     ymin = rep(1,10),\n",
    "                     ymax = rep(4.1,10))\n",
    "labels <- data.frame(x = c(1,5.5,11.5,17.5,22,31.5,25.5,36,39,44.5,50.5, 50.5, 50.5), \n",
    "                     y = c(rep(4.3,10),3.5, 2.5, 1.5), \n",
    "                     label = c('C1','V1','V2','C2','V3','V4','C3','C4','V5', 'GP41', '31', '29', '29'))\n",
    "\n",
    "ggplot(data = PNGS_data) + \n",
    " geom_rect(aes(xmin = as.numeric(factor(pos_f)) - 0.4, \n",
    "               xmax = as.numeric(factor(pos_f)) + 0.4, \n",
    "               ymin = as.numeric(factor(name)), \n",
    "               ymax = as.numeric(factor(name)) + 1,\n",
    "               fill = name)) +\n",
    " geom_rect(aes(xmin = xmin, \n",
    "               xmax = xmax, \n",
    "               ymin = ymin, \n",
    "               ymax = ymax),\n",
    "               fill = NA, col = 'black', data = ranges) +\n",
    " geom_text(aes(x = x, y = y, label = label), data = labels) +\n",
    " scale_x_continuous('HXB2 position',\n",
    "                    breaks = 1:48,\n",
    "                    labels = levels(factor(PNGS_data$pos_f)),\n",
    "                    limits = c(-0.5,52),\n",
    "                    expand = c(0,0)) +\n",
    " scale_y_continuous('',\n",
    "                    limits = c(1,4.5),\n",
    "                    breaks=NULL,\n",
    "                    expand = c(0,0)) +\n",
    " ggtitle('PNGS locations') +\n",
    " theme_bw() +\n",
    " theme(axis.text.x = element_text(angle = 90, hjust = 1, vjust = 0.5),\n",
    "       plot.margin = unit(c(0,0,0,0),'mm'),\n",
    "       legend.title = element_blank())\n",
    " \n",
    "ggsave(file = '../Graphs/PNGS_ggplot.png', width = 8, height = 3)"
   ]
  },
  {
   "cell_type": "code",
   "execution_count": 22,
   "metadata": {
    "collapsed": false
   },
   "outputs": [],
   "source": [
    "input_file = open('/Users/roux-cilferreira/Desktop/naccess/CAP45_tri.rsa')\n",
    "CAP45_sa = dict()\n",
    "i = 0\n",
    "for line in input_file:\n",
    "    if not line.startswith('REM'):\n",
    "        line_list = line.split()\n",
    "        CAP45_sa[line_list[3]] = float(line_list[4])"
   ]
  },
  {
   "cell_type": "code",
   "execution_count": null,
   "metadata": {
    "collapsed": true
   },
   "outputs": [],
   "source": []
  }
 ],
 "metadata": {
  "kernelspec": {
   "display_name": "Python 2",
   "language": "python",
   "name": "python2"
  },
  "language_info": {
   "codemirror_mode": {
    "name": "ipython",
    "version": 2
   },
   "file_extension": ".py",
   "mimetype": "text/x-python",
   "name": "python",
   "nbconvert_exporter": "python",
   "pygments_lexer": "ipython2",
   "version": "2.7.9"
  }
 },
 "nbformat": 4,
 "nbformat_minor": 0
}
